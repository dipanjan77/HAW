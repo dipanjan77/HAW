{
 "cells": [
  {
   "cell_type": "code",
   "execution_count": 2,
   "id": "892b4344",
   "metadata": {},
   "outputs": [
    {
     "name": "stdout",
     "output_type": "stream",
     "text": [
      "      Name Last Name Member         City Code  Amount\n",
      "0      Jim       Doe     No         Ohio   JD    8075\n",
      "1     Gill  McGinnis    Yes        Texas   GM    9119\n",
      "2      Joe    Repici    Yes       Bostan   JR    8075\n",
      "3  Stephen     Tyler     No           LA   ST   91234\n",
      "4    Oscar  Blankman     No          NYC   OB     298\n",
      "5    Kelly       Jet     No  Desert City   KJ     123\n"
     ]
    }
   ],
   "source": [
    "import pandas as pd\n",
    "\n",
    " # assigning url to a variable\n",
    "url=\"https://raw.githubusercontent.com/Tanishqa-10/AskPython/main/Sampledata.csv\"\n",
    " \n",
    "# passing parameter to the function\n",
    "x =pd.read_csv(url)\n",
    "print(x)"
   ]
  },
  {
   "cell_type": "code",
   "execution_count": null,
   "id": "0f529185",
   "metadata": {},
   "outputs": [],
   "source": []
  }
 ],
 "metadata": {
  "kernelspec": {
   "display_name": "Python 3 (ipykernel)",
   "language": "python",
   "name": "python3"
  },
  "language_info": {
   "codemirror_mode": {
    "name": "ipython",
    "version": 3
   },
   "file_extension": ".py",
   "mimetype": "text/x-python",
   "name": "python",
   "nbconvert_exporter": "python",
   "pygments_lexer": "ipython3",
   "version": "3.11.3"
  }
 },
 "nbformat": 4,
 "nbformat_minor": 5
}
